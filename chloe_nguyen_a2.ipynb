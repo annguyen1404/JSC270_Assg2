{
  "nbformat": 4,
  "nbformat_minor": 0,
  "metadata": {
    "colab": {
      "name": "Chloe Nguyen - JSC270_Assignment2_starter_code.ipynb",
      "provenance": [],
      "collapsed_sections": []
    },
    "kernelspec": {
      "display_name": "Python 3",
      "name": "python3"
    }
  },
  "cells": [
    {
      "cell_type": "markdown",
      "metadata": {
        "id": "Dx3JcBg8VZ-a"
      },
      "source": [
        "###Libraries you'll likely need"
      ]
    },
    {
      "cell_type": "code",
      "metadata": {
        "id": "3I79uCwE3Sq8"
      },
      "source": [
        "import pandas as pd\r\n",
        "import numpy as np\r\n",
        "import matplotlib.pyplot as plt\r\n",
        "import seaborn as sns\r\n",
        "from scipy import stats\r\n",
        "import statsmodels.api as sm\r\n",
        "import statsmodels.formula.api as smf"
      ],
      "execution_count": 84,
      "outputs": []
    },
    {
      "cell_type": "markdown",
      "metadata": {
        "id": "9U0oB7HfVZ3g"
      },
      "source": [
        ""
      ]
    },
    {
      "cell_type": "markdown",
      "metadata": {
        "id": "X0oR7u9m-wO6"
      },
      "source": [
        "###Importing data"
      ]
    },
    {
      "cell_type": "code",
      "metadata": {
        "id": "f3jscp2H3Yqm"
      },
      "source": [
        "income94 = pd.read_csv('https://archive.ics.uci.edu/ml/machine-learning-databases/adult/adult.data', header=None)\r\n",
        "income94.columns = ['age','workclass', 'fnlwgt','education','education_num','marital_status','occupation',\r\n",
        "                    'relationship','race','sex','capital_gain','capital_loss','hours_per_week','native_country','gross_income_group']"
      ],
      "execution_count": 85,
      "outputs": []
    },
    {
      "cell_type": "markdown",
      "metadata": {
        "id": "IXcd0exv9QR6"
      },
      "source": [
        "### Initial Data Exploration"
      ]
    },
    {
      "cell_type": "markdown",
      "metadata": {
        "id": "WzU8Bgnx-II6"
      },
      "source": [
        "####1. Q1\r\n",
        "The columns of my data are not the expected data types based on their descriptions. Continuous numerical variables are stored as integers (int64) which would only allow for whole numbers and not decimal places. They should be stored as floats instead."
      ]
    },
    {
      "cell_type": "code",
      "metadata": {
        "colab": {
          "base_uri": "https://localhost:8080/"
        },
        "id": "p7KP5Ox79TRK",
        "outputId": "22f7cb0c-8212-4d07-a781-a9a03cf8c654"
      },
      "source": [
        "income94.info()"
      ],
      "execution_count": 86,
      "outputs": [
        {
          "output_type": "stream",
          "text": [
            "<class 'pandas.core.frame.DataFrame'>\n",
            "RangeIndex: 32561 entries, 0 to 32560\n",
            "Data columns (total 15 columns):\n",
            " #   Column              Non-Null Count  Dtype \n",
            "---  ------              --------------  ----- \n",
            " 0   age                 32561 non-null  int64 \n",
            " 1   workclass           32561 non-null  object\n",
            " 2   fnlwgt              32561 non-null  int64 \n",
            " 3   education           32561 non-null  object\n",
            " 4   education_num       32561 non-null  int64 \n",
            " 5   marital_status      32561 non-null  object\n",
            " 6   occupation          32561 non-null  object\n",
            " 7   relationship        32561 non-null  object\n",
            " 8   race                32561 non-null  object\n",
            " 9   sex                 32561 non-null  object\n",
            " 10  capital_gain        32561 non-null  int64 \n",
            " 11  capital_loss        32561 non-null  int64 \n",
            " 12  hours_per_week      32561 non-null  int64 \n",
            " 13  native_country      32561 non-null  object\n",
            " 14  gross_income_group  32561 non-null  object\n",
            "dtypes: int64(6), object(9)\n",
            "memory usage: 3.7+ MB\n"
          ],
          "name": "stdout"
        }
      ]
    },
    {
      "cell_type": "markdown",
      "metadata": {
        "id": "SEweNYG7lcK2"
      },
      "source": [
        "####2. Q2\r\n",
        "The author of this dataset used their own special character(\" ?\", as we can see from .value_counts()) to denote a missing value. Hence, it appears as though there are no null values when we initially call income94.info()."
      ]
    },
    {
      "cell_type": "code",
      "metadata": {
        "colab": {
          "base_uri": "https://localhost:8080/"
        },
        "id": "gww4W02RHKxn",
        "outputId": "dcd1d740-74df-4f32-fde6-7075d15e9393"
      },
      "source": [
        "# Finding how missing values are represented\r\n",
        "income94.occupation.value_counts()"
      ],
      "execution_count": 87,
      "outputs": [
        {
          "output_type": "execute_result",
          "data": {
            "text/plain": [
              " Prof-specialty       4140\n",
              " Craft-repair         4099\n",
              " Exec-managerial      4066\n",
              " Adm-clerical         3770\n",
              " Sales                3650\n",
              " Other-service        3295\n",
              " Machine-op-inspct    2002\n",
              " ?                    1843\n",
              " Transport-moving     1597\n",
              " Handlers-cleaners    1370\n",
              " Farming-fishing       994\n",
              " Tech-support          928\n",
              " Protective-serv       649\n",
              " Priv-house-serv       149\n",
              " Armed-Forces            9\n",
              "Name: occupation, dtype: int64"
            ]
          },
          "metadata": {
            "tags": []
          },
          "execution_count": 87
        }
      ]
    },
    {
      "cell_type": "code",
      "metadata": {
        "colab": {
          "base_uri": "https://localhost:8080/",
          "height": 35
        },
        "id": "qQBx148qSEoP",
        "outputId": "3508fd5f-e3b1-423b-80c6-08bd6d0616ae"
      },
      "source": [
        "# Looking at one specific entry from one specific row for what missing value is stored as\r\n",
        "income94.iloc[27][1]"
      ],
      "execution_count": 88,
      "outputs": [
        {
          "output_type": "execute_result",
          "data": {
            "application/vnd.google.colaboratory.intrinsic+json": {
              "type": "string"
            },
            "text/plain": [
              "' ?'"
            ]
          },
          "metadata": {
            "tags": []
          },
          "execution_count": 88
        }
      ]
    },
    {
      "cell_type": "code",
      "metadata": {
        "colab": {
          "base_uri": "https://localhost:8080/"
        },
        "id": "ugjAbDUuIR53",
        "outputId": "d3b699dd-56cb-48fa-a1e1-7317999046a3"
      },
      "source": [
        "# Repalacing missing values with nan\r\n",
        "income94 = income94.replace(\" ?\", np.nan)\r\n",
        "income94.info()\r\n",
        "\r\n",
        "# Counting the number of missing values in each column\r\n",
        "print(\"\\nNumber of Missing Values in Each Column\")\r\n",
        "print(income94.isna().sum())\r\n",
        "\r\n",
        "# Convert selected columns from ints to floats\r\n",
        "for col in ['age', 'fnlwgt', 'education_num', 'capital_gain', 'hours_per_week']:\r\n",
        "  income94[col] = income94[col].astype('float64')"
      ],
      "execution_count": 89,
      "outputs": [
        {
          "output_type": "stream",
          "text": [
            "<class 'pandas.core.frame.DataFrame'>\n",
            "RangeIndex: 32561 entries, 0 to 32560\n",
            "Data columns (total 15 columns):\n",
            " #   Column              Non-Null Count  Dtype \n",
            "---  ------              --------------  ----- \n",
            " 0   age                 32561 non-null  int64 \n",
            " 1   workclass           30725 non-null  object\n",
            " 2   fnlwgt              32561 non-null  int64 \n",
            " 3   education           32561 non-null  object\n",
            " 4   education_num       32561 non-null  int64 \n",
            " 5   marital_status      32561 non-null  object\n",
            " 6   occupation          30718 non-null  object\n",
            " 7   relationship        32561 non-null  object\n",
            " 8   race                32561 non-null  object\n",
            " 9   sex                 32561 non-null  object\n",
            " 10  capital_gain        32561 non-null  int64 \n",
            " 11  capital_loss        32561 non-null  int64 \n",
            " 12  hours_per_week      32561 non-null  int64 \n",
            " 13  native_country      31978 non-null  object\n",
            " 14  gross_income_group  32561 non-null  object\n",
            "dtypes: int64(6), object(9)\n",
            "memory usage: 3.7+ MB\n",
            "\n",
            "Number of Missing Values in Each Column\n",
            "age                      0\n",
            "workclass             1836\n",
            "fnlwgt                   0\n",
            "education                0\n",
            "education_num            0\n",
            "marital_status           0\n",
            "occupation            1843\n",
            "relationship             0\n",
            "race                     0\n",
            "sex                      0\n",
            "capital_gain             0\n",
            "capital_loss             0\n",
            "hours_per_week           0\n",
            "native_country         583\n",
            "gross_income_group       0\n",
            "dtype: int64\n"
          ],
          "name": "stdout"
        }
      ]
    },
    {
      "cell_type": "markdown",
      "metadata": {
        "id": "GPstUPWaUr22"
      },
      "source": [
        "####3. Q3\r\n",
        "Individually plotting the distributions of capital_gain and capital_loss:"
      ]
    },
    {
      "cell_type": "code",
      "metadata": {
        "colab": {
          "base_uri": "https://localhost:8080/",
          "height": 545
        },
        "id": "ybpH_7bZXWPg",
        "outputId": "efd016b8-8456-40e6-a5a1-d479bce86cbf"
      },
      "source": [
        "plt.hist(income94.capital_gain)\r\n",
        "plt.title(\"Distribution of Capital Gain\")\r\n",
        "plt.show()\r\n",
        "\r\n",
        "plt.hist(income94.capital_loss)\r\n",
        "plt.title(\"Distribution of Capital Loss\")\r\n",
        "plt.show()"
      ],
      "execution_count": 90,
      "outputs": [
        {
          "output_type": "display_data",
          "data": {
            "image/png": "[encoded data removed]",
            "text/plain": [
              "<Figure size 432x288 with 1 Axes>"
            ]
          },
          "metadata": {
            "tags": [],
            "needs_background": "light"
          }
        },
        {
          "output_type": "display_data",
          "data": {
            "image/png": "[encoded data removed]",
            "text/plain": [
              "<Figure size 432x288 with 1 Axes>"
            ]
          },
          "metadata": {
            "tags": [],
            "needs_background": "light"
          }
        }
      ]
    },
    {
      "cell_type": "markdown",
      "metadata": {
        "id": "JTtboOeUbz4X"
      },
      "source": [
        "These variables should not be transformed because most obeservations have 0 in capital gain and most observations have 0 in capital loss. We should instead have a new categorical variable (called capital) detailing whether their was capital gain or capital loss or neither. We could have: \"gain\" for capital gain; \"loss\" for capital loss and \"neither\" for neither capital gain nor capital loss."
      ]
    },
    {
      "cell_type": "code",
      "metadata": {
        "colab": {
          "base_uri": "https://localhost:8080/",
          "height": 143
        },
        "id": "hoxSb8TOGotN",
        "outputId": "79d46696-9a9d-4823-b125-105d0735dcbb"
      },
      "source": [
        "income94[\"end_capital\"] = np.where(income94.capital_gain==0, \"neither\", \"gain\")\r\n",
        "income94[\"end_capital\"] = np.where(income94.capital_loss!=0, \"loss\", income94[\"end_capital\"])\r\n",
        "\r\n",
        "# Table for the distribtion of capital\r\n",
        "income94.groupby(\"end_capital\").size().reset_index(name=\"count\")\r\n"
      ],
      "execution_count": 91,
      "outputs": [
        {
          "output_type": "execute_result",
          "data": {
            "text/html": [
              "<div>\n",
              "<style scoped>\n",
              "    .dataframe tbody tr th:only-of-type {\n",
              "        vertical-align: middle;\n",
              "    }\n",
              "\n",
              "    .dataframe tbody tr th {\n",
              "        vertical-align: top;\n",
              "    }\n",
              "\n",
              "    .dataframe thead th {\n",
              "        text-align: right;\n",
              "    }\n",
              "</style>\n",
              "<table border=\"1\" class=\"dataframe\">\n",
              "  <thead>\n",
              "    <tr style=\"text-align: right;\">\n",
              "      <th></th>\n",
              "      <th>end_capital</th>\n",
              "      <th>count</th>\n",
              "    </tr>\n",
              "  </thead>\n",
              "  <tbody>\n",
              "    <tr>\n",
              "      <th>0</th>\n",
              "      <td>gain</td>\n",
              "      <td>2712</td>\n",
              "    </tr>\n",
              "    <tr>\n",
              "      <th>1</th>\n",
              "      <td>loss</td>\n",
              "      <td>1519</td>\n",
              "    </tr>\n",
              "    <tr>\n",
              "      <th>2</th>\n",
              "      <td>neither</td>\n",
              "      <td>28330</td>\n",
              "    </tr>\n",
              "  </tbody>\n",
              "</table>\n",
              "</div>"
            ],
            "text/plain": [
              "  end_capital  count\n",
              "0        gain   2712\n",
              "1        loss   1519\n",
              "2     neither  28330"
            ]
          },
          "metadata": {
            "tags": []
          },
          "execution_count": 91
        }
      ]
    },
    {
      "cell_type": "markdown",
      "metadata": {
        "id": "Ikj0scFDleLC"
      },
      "source": [
        "####4. Q4\r\n",
        "From the plot of the distribution of fnlwgt, we see that the variable is not symmetrically distributed- it is right skewed.\r\n",
        "\r\n",
        "Comparing the disitribution of this variable between men and women, we see that both distributions are similiar in shape. Both distributions are right skewed and have modes at 0.2. \r\n",
        "\r\n",
        "A common method of classifying points as outliers is to look for points outside of the interquartile range. From the box plot, we can see that there are a lot of observations outside of the interquartile range (for both males and females). However, there aren't just one or two off points, this seems to be a very common occurence for a significant number of observations. Thus, all these points should not be excluded in our analysis."
      ]
    },
    {
      "cell_type": "code",
      "metadata": {
        "id": "J2MpBnF7lkJP",
        "colab": {
          "base_uri": "https://localhost:8080/",
          "height": 295
        },
        "outputId": "83cba7a1-9411-498e-cf4f-9f79cfe6dbd8"
      },
      "source": [
        "# Plotting the distirbution of weights\r\n",
        "plt.hist(income94.fnlwgt)\r\n",
        "plt.title(\"Distribution of fnlwgt\")\r\n",
        "plt.xlabel(\"fnlwgt\")\r\n",
        "plt.show()"
      ],
      "execution_count": 92,
      "outputs": [
        {
          "output_type": "display_data",
          "data": {
            "image/png": "[encoded data removed]",
            "text/plain": [
              "<Figure size 432x288 with 1 Axes>"
            ]
          },
          "metadata": {
            "tags": [],
            "needs_background": "light"
          }
        }
      ]
    },
    {
      "cell_type": "code",
      "metadata": {
        "id": "cZgp5y0S5eVU",
        "colab": {
          "base_uri": "https://localhost:8080/",
          "height": 599
        },
        "outputId": "6146b62a-97f1-4cab-bd04-00581267884e"
      },
      "source": [
        "# Comparing the disitribution of this variable between men and women\r\n",
        "fig, (plt1, plt2) = plt.subplots(1, 2)\r\n",
        "fig.suptitle('Distribution of fnlwgt for Males')\r\n",
        "plt1.hist(income94[income94.sex == ' Male'].fnlwgt)\r\n",
        "sns.boxplot(x = 'fnlwgt', data = income94[income94.sex == ' Male'])\r\n",
        "fig.show()\r\n",
        "\r\n",
        "fig2, (plt3, plt4) = plt.subplots(1, 2)\r\n",
        "fig2.suptitle('Distribution of fnlwgt for Females')\r\n",
        "plt3.hist(income94[income94.sex == ' Female'].fnlwgt)\r\n",
        "sns.boxplot(x = 'fnlwgt', data = income94[income94.sex == ' Female'])\r\n",
        "fig2.show()"
      ],
      "execution_count": 94,
      "outputs": [
        {
          "output_type": "display_data",
          "data": {
            "image/png": "[encoded data removed]",
            "text/plain": [
              "<Figure size 432x288 with 2 Axes>"
            ]
          },
          "metadata": {
            "tags": [],
            "needs_background": "light"
          }
        },
        {
          "output_type": "display_data",
          "data": {
            "image/png": "[encoded data removed]",
            "text/plain": [
              "<Figure size 432x288 with 2 Axes>"
            ]
          },
          "metadata": {
            "tags": [],
            "needs_background": "light"
          }
        }
      ]
    },
    {
      "cell_type": "markdown",
      "metadata": {
        "id": "pZFSBXne53OH"
      },
      "source": [
        "### Correlation"
      ]
    },
    {
      "cell_type": "markdown",
      "metadata": {
        "id": "3OKxg9d958sB"
      },
      "source": [
        "#### Q1a.\r\n",
        "Correlation  between age, education_num and hours_per_week"
      ]
    },
    {
      "cell_type": "code",
      "metadata": {
        "colab": {
          "base_uri": "https://localhost:8080/",
          "height": 143
        },
        "id": "BkQr1Rw_rVt-",
        "outputId": "1f79f39e-7f82-48a1-d42b-77f5bbd0053d"
      },
      "source": [
        "income94[[\"age\", \"education_num\", \"hours_per_week\"]].corr(method ='pearson') "
      ],
      "execution_count": 103,
      "outputs": [
        {
          "output_type": "execute_result",
          "data": {
            "text/html": [
              "<div>\n",
              "<style scoped>\n",
              "    .dataframe tbody tr th:only-of-type {\n",
              "        vertical-align: middle;\n",
              "    }\n",
              "\n",
              "    .dataframe tbody tr th {\n",
              "        vertical-align: top;\n",
              "    }\n",
              "\n",
              "    .dataframe thead th {\n",
              "        text-align: right;\n",
              "    }\n",
              "</style>\n",
              "<table border=\"1\" class=\"dataframe\">\n",
              "  <thead>\n",
              "    <tr style=\"text-align: right;\">\n",
              "      <th></th>\n",
              "      <th>age</th>\n",
              "      <th>education_num</th>\n",
              "      <th>hours_per_week</th>\n",
              "    </tr>\n",
              "  </thead>\n",
              "  <tbody>\n",
              "    <tr>\n",
              "      <th>age</th>\n",
              "      <td>1.000000</td>\n",
              "      <td>0.036527</td>\n",
              "      <td>0.068756</td>\n",
              "    </tr>\n",
              "    <tr>\n",
              "      <th>education_num</th>\n",
              "      <td>0.036527</td>\n",
              "      <td>1.000000</td>\n",
              "      <td>0.148123</td>\n",
              "    </tr>\n",
              "    <tr>\n",
              "      <th>hours_per_week</th>\n",
              "      <td>0.068756</td>\n",
              "      <td>0.148123</td>\n",
              "      <td>1.000000</td>\n",
              "    </tr>\n",
              "  </tbody>\n",
              "</table>\n",
              "</div>"
            ],
            "text/plain": [
              "                     age  education_num  hours_per_week\n",
              "age             1.000000       0.036527        0.068756\n",
              "education_num   0.036527       1.000000        0.148123\n",
              "hours_per_week  0.068756       0.148123        1.000000"
            ]
          },
          "metadata": {
            "tags": []
          },
          "execution_count": 103
        }
      ]
    },
    {
      "cell_type": "markdown",
      "metadata": {
        "id": "pkngjW3utuAR"
      },
      "source": [
        "From the table, we see that hours_per_week and education_num have the highest correlation among the variable pairs- at 0.148123. Further, education_num and age have the lowest correlation at 0.036527."
      ]
    },
    {
      "cell_type": "markdown",
      "metadata": {
        "id": "DAd9gXG5xSY3"
      },
      "source": [
        "#### Q1b.\r\n",
        "The only variable pair with correlation over 0.1 is hours_per_week and education_num. I now test for the difference from 0."
      ]
    },
    {
      "cell_type": "code",
      "metadata": {
        "colab": {
          "base_uri": "https://localhost:8080/"
        },
        "id": "1wUHDq7Axszw",
        "outputId": "9f889646-a0b8-43d6-d70e-119503f71dda"
      },
      "source": [
        "stats.stats.pearsonr(income94.hours_per_week, income94.education_num)"
      ],
      "execution_count": 104,
      "outputs": [
        {
          "output_type": "execute_result",
          "data": {
            "text/plain": [
              "(0.1481227326229122, 4.2366474790836004e-159)"
            ]
          },
          "metadata": {
            "tags": []
          },
          "execution_count": 104
        }
      ]
    },
    {
      "cell_type": "markdown",
      "metadata": {
        "id": "PeGzNt9ex_xm"
      },
      "source": [
        "We see that the correlation is 0.148123 and has a p-value of 4.2366e-159. Since the p-value is extremely small, there is strong evidence that the correlation coefficient is not 0 and that the correlation coefficient is significant. \r\n",
        "\r\n",
        "Prior to doing the test, I expected hours_per_week to increase as education_num increased. The test suggests that the correlation between these two variables is positive. Hence, the direction of the correlation is as I expected."
      ]
    },
    {
      "cell_type": "markdown",
      "metadata": {
        "id": "unVzf5F-z27e"
      },
      "source": [
        "#### Q1c.\r\n",
        "\r\n",
        "Comparing correlation between educaton_num and age for males and females."
      ]
    },
    {
      "cell_type": "code",
      "metadata": {
        "colab": {
          "base_uri": "https://localhost:8080/"
        },
        "id": "EpmOd1L400WN",
        "outputId": "e7c8c820-1aae-49d5-fdb0-e34376ba52ab"
      },
      "source": [
        "# Males\r\n",
        "male_corr = stats.stats.pearsonr(income94[income94.sex == ' Male'].education_num, income94[income94.sex == ' Male'].age)\r\n",
        "print(\"Correlation between education_num and age for males:\")\r\n",
        "print(male_corr)\r\n",
        "\r\n",
        "# Females\r\n",
        "fem_corr = stats.stats.pearsonr(income94[income94.sex == ' Female'].education_num, income94[income94.sex == ' Female'].age)\r\n",
        "print(\"\\nCorrelation between education_num and age for females:\")\r\n",
        "print(fem_corr)"
      ],
      "execution_count": 105,
      "outputs": [
        {
          "output_type": "stream",
          "text": [
            "Correlation between education_num and age for males:\n",
            "(0.060486409198268254, 4.0229868301718123e-19)\n",
            "\n",
            "Correlation between education_num and age for females:\n",
            "(-0.017899243935447704, 0.06322895030804963)\n"
          ],
          "name": "stdout"
        }
      ]
    },
    {
      "cell_type": "markdown",
      "metadata": {
        "id": "W8MeMsP-1yex"
      },
      "source": [
        "For males, we see that the correlation is roughly 0.0605 and has a p-value of 4.023e-19. Since the p-value is very small, there is strong evidence that the correlation coefficient is not 0 and that the correlation coefficient is significant. \r\n",
        "\r\n",
        "For female, we see that the correlation is roughly -0.018 and has a p-value of 0.0632. Since the p-value is not very small, there is weak evidence that the correlation coefficient is not 0- that is, we do not reject the null hypothesis that the correlation coefficient is 0. \r\n",
        "\r\n",
        "These results are not as I expected. When I discovered the correlation between education_num and age for both males and females (in part 1a), I found that the correlation was roughly 0.0365. I originally expected both males and females to have positive correlations. That is, I expected an association between older males and females with increased education: the older a person is, the more time they have to complete their education. I did not expect the female correlation to be negative with a relatively large p-value.\r\n"
      ]
    },
    {
      "cell_type": "markdown",
      "metadata": {
        "id": "RMq4XZer6AfO"
      },
      "source": [
        "#### Q1d.\r\n",
        "Comparing the weighted vs. unweighted variance and covariance between education_num and hours_per_week.\r\n",
        "\r\n",
        "Note that the first column represents education_num and the second column represents hourse_per_week.\r\n"
      ]
    },
    {
      "cell_type": "code",
      "metadata": {
        "colab": {
          "base_uri": "https://localhost:8080/"
        },
        "id": "A2URe0jQN55r",
        "outputId": "118de510-aa02-4761-bc76-208b45ff51b2"
      },
      "source": [
        "print(\"Unweighted Variance and Covariance Between education_num And hours_per_week\")\r\n",
        "print(np.cov(income94.education_num, income94.hours_per_week))\r\n",
        "print(\"\\nWeighted Variance and Covariance Between education_num And hours_per_week\")\r\n",
        "print(np.cov(income94.education_num, income94.hours_per_week, aweights=income94.fnlwgt))\r\n"
      ],
      "execution_count": 107,
      "outputs": [
        {
          "output_type": "stream",
          "text": [
            "Unweighted Variance and Covariance Between education_num And hours_per_week\n",
            "[[  6.61888991   4.70533794]\n",
            " [  4.70533794 152.45899505]]\n",
            "\n",
            "Weighted Variance and Covariance Between education_num And hours_per_week\n",
            "[[  6.82892114   4.63407476]\n",
            " [  4.63407476 146.33651739]]\n"
          ],
          "name": "stdout"
        }
      ]
    },
    {
      "cell_type": "markdown",
      "metadata": {
        "id": "3CpGcQHdTjmM"
      },
      "source": [
        "We can see that the unweighted variance of education_num (roughly 6.619) is lower than the weighted variance (roughly 6.829). This implies that values at the extreme are underrepresented- that is, people with a very low education number or with a very high education number are underrepresented. \r\n",
        "\r\n",
        "Additionally, the unweighted variance of hours_per_week (roughly 152.459) is higher than the weighted variance (roughly 146.337). This implies that values at the extreme are overrepresented- that is, people working very little hours per week or a lot of hours per week are overrepresented. \r\n",
        "These weights tell us what group is overrepresented or underrepresented."
      ]
    },
    {
      "cell_type": "markdown",
      "metadata": {
        "id": "34IG1YwIsGtY"
      },
      "source": [
        "### Regression"
      ]
    },
    {
      "cell_type": "markdown",
      "metadata": {
        "id": "b9LqAaHDsJ0F"
      },
      "source": [
        "#### Q1a. Fitting a linear regrssion with hours_per_week as the dependent variable and sex as the independent variable."
      ]
    },
    {
      "cell_type": "code",
      "metadata": {
        "colab": {
          "base_uri": "https://localhost:8080/",
          "height": 736
        },
        "id": "KWawv2J1siRM",
        "outputId": "5d8caa1f-e63c-4e7a-b40f-1dc6e1040127"
      },
      "source": [
        "reg1 = smf.ols('hours_per_week ~ sex', data = income94).fit()\r\n",
        "print(reg1.summary())\r\n",
        "\r\n",
        "fig = sm.graphics.plot_partregress_grid(reg1)\r\n",
        "fig.tight_layout(pad=1.0)"
      ],
      "execution_count": 108,
      "outputs": [
        {
          "output_type": "stream",
          "text": [
            "                            OLS Regression Results                            \n",
            "==============================================================================\n",
            "Dep. Variable:         hours_per_week   R-squared:                       0.053\n",
            "Model:                            OLS   Adj. R-squared:                  0.053\n",
            "Method:                 Least Squares   F-statistic:                     1807.\n",
            "Date:                Mon, 08 Feb 2021   Prob (F-statistic):               0.00\n",
            "Time:                        00:05:44   Log-Likelihood:            -1.2716e+05\n",
            "No. Observations:               32561   AIC:                         2.543e+05\n",
            "Df Residuals:                   32559   BIC:                         2.543e+05\n",
            "Df Model:                           1                                         \n",
            "Covariance Type:            nonrobust                                         \n",
            "================================================================================\n",
            "                   coef    std err          t      P>|t|      [0.025      0.975]\n",
            "--------------------------------------------------------------------------------\n",
            "Intercept       36.4104      0.116    314.412      0.000      36.183      36.637\n",
            "sex[T. Male]     6.0177      0.142     42.510      0.000       5.740       6.295\n",
            "==============================================================================\n",
            "Omnibus:                     2649.390   Durbin-Watson:                   2.019\n",
            "Prob(Omnibus):                  0.000   Jarque-Bera (JB):            13090.867\n",
            "Skew:                           0.239   Prob(JB):                         0.00\n",
            "Kurtosis:                       6.069   Cond. No.                         3.24\n",
            "==============================================================================\n",
            "\n",
            "Warnings:\n",
            "[1] Standard Errors assume that the covariance matrix of the errors is correctly specified.\n"
          ],
          "name": "stdout"
        },
        {
          "output_type": "display_data",
          "data": {
            "image/png": "[encoded data removed]",
            "text/plain": [
              "<Figure size 432x288 with 2 Axes>"
            ]
          },
          "metadata": {
            "tags": [],
            "needs_background": "light"
          }
        }
      ]
    },
    {
      "cell_type": "markdown",
      "metadata": {
        "id": "GUPMrmZUtPCu"
      },
      "source": [
        "From the fitted linear regression, the estimated slope parameter is positive which implies that men tend to work more hours than women."
      ]
    },
    {
      "cell_type": "markdown",
      "metadata": {
        "id": "TvShdCWA38-B"
      },
      "source": [
        "#### Q1b. Include the variable education_num\r\n",
        "\r\n"
      ]
    },
    {
      "cell_type": "code",
      "metadata": {
        "colab": {
          "base_uri": "https://localhost:8080/"
        },
        "id": "muB7sVm844PR",
        "outputId": "4f697ead-19f7-4721-cee2-fe34635ea5de"
      },
      "source": [
        "reg2 = smf.ols('hours_per_week ~ sex+education_num', data = income94).fit()\r\n",
        "print(reg2.summary())"
      ],
      "execution_count": 109,
      "outputs": [
        {
          "output_type": "stream",
          "text": [
            "                            OLS Regression Results                            \n",
            "==============================================================================\n",
            "Dep. Variable:         hours_per_week   R-squared:                       0.074\n",
            "Model:                            OLS   Adj. R-squared:                  0.074\n",
            "Method:                 Least Squares   F-statistic:                     1295.\n",
            "Date:                Mon, 08 Feb 2021   Prob (F-statistic):               0.00\n",
            "Time:                        00:05:47   Log-Likelihood:            -1.2680e+05\n",
            "No. Observations:               32561   AIC:                         2.536e+05\n",
            "Df Residuals:                   32558   BIC:                         2.536e+05\n",
            "Df Model:                           2                                         \n",
            "Covariance Type:            nonrobust                                         \n",
            "=================================================================================\n",
            "                    coef    std err          t      P>|t|      [0.025      0.975]\n",
            "---------------------------------------------------------------------------------\n",
            "Intercept        29.4106      0.281    104.556      0.000      28.859      29.962\n",
            "sex[T. Male]      5.9709      0.140     42.653      0.000       5.697       6.245\n",
            "education_num     0.6975      0.026     27.244      0.000       0.647       0.748\n",
            "==============================================================================\n",
            "Omnibus:                     2783.881   Durbin-Watson:                   2.018\n",
            "Prob(Omnibus):                  0.000   Jarque-Bera (JB):            14492.060\n",
            "Skew:                           0.247   Prob(JB):                         0.00\n",
            "Kurtosis:                       6.231   Cond. No.                         45.6\n",
            "==============================================================================\n",
            "\n",
            "Warnings:\n",
            "[1] Standard Errors assume that the covariance matrix of the errors is correctly specified.\n"
          ],
          "name": "stdout"
        }
      ]
    },
    {
      "cell_type": "markdown",
      "metadata": {
        "id": "qt3B3bf8achZ"
      },
      "source": [
        "We see that the slope parameter for sex is at 5.9709 after the addition of the extra variable. Prior to this, the slope parameter was 6.0177. Hence, the addition of the extra variable did not affect the trend in hours worked by men vs women much. That is, the fitted linear regression still suggests that men tend to work more hours than women.\r\n",
        "\r\n",
        "Further, the variable education_num is significant to predicting hours_per_week since its associated p-value is extremely close to 0. Moreover, the adjusted R^2 of this model is 0.074, which is higher than the adjusted R^2 of the model without education_num as a predictor (0.053). Hence, the percentage of variation in hours per week can be explained by this model (with 2 predictors) better than the model with only 1 predictor (sex)."
      ]
    },
    {
      "cell_type": "markdown",
      "metadata": {
        "id": "ksZI2B4dblfl"
      },
      "source": [
        "#### Q1c. Add gross_income_group\r\n"
      ]
    },
    {
      "cell_type": "code",
      "metadata": {
        "colab": {
          "base_uri": "https://localhost:8080/"
        },
        "id": "O8hxE6bVcW2m",
        "outputId": "f290da71-49e7-404d-b208-a8f0243bcae3"
      },
      "source": [
        "# Make new column that takes value 1 if there is capital gain and 0 otherwise\r\n",
        "income94[\"gross_income_group\"] = (income94.capital_gain > 0).astype(int)\r\n",
        "\r\n",
        "reg3 = smf.ols('hours_per_week ~ sex+education_num+gross_income_group', data = income94).fit()\r\n",
        "print(reg3.summary())"
      ],
      "execution_count": 110,
      "outputs": [
        {
          "output_type": "stream",
          "text": [
            "                            OLS Regression Results                            \n",
            "==============================================================================\n",
            "Dep. Variable:         hours_per_week   R-squared:                       0.076\n",
            "Model:                            OLS   Adj. R-squared:                  0.076\n",
            "Method:                 Least Squares   F-statistic:                     887.9\n",
            "Date:                Mon, 08 Feb 2021   Prob (F-statistic):               0.00\n",
            "Time:                        00:05:49   Log-Likelihood:            -1.2676e+05\n",
            "No. Observations:               32561   AIC:                         2.535e+05\n",
            "Df Residuals:                   32557   BIC:                         2.536e+05\n",
            "Df Model:                           3                                         \n",
            "Covariance Type:            nonrobust                                         \n",
            "======================================================================================\n",
            "                         coef    std err          t      P>|t|      [0.025      0.975]\n",
            "--------------------------------------------------------------------------------------\n",
            "Intercept             29.5407      0.281    104.960      0.000      28.989      30.092\n",
            "sex[T. Male]           5.8973      0.140     42.085      0.000       5.623       6.172\n",
            "education_num          0.6731      0.026     26.145      0.000       0.623       0.724\n",
            "gross_income_group     1.9783      0.240      8.236      0.000       1.508       2.449\n",
            "==============================================================================\n",
            "Omnibus:                     2799.342   Durbin-Watson:                   2.017\n",
            "Prob(Omnibus):                  0.000   Jarque-Bera (JB):            14623.824\n",
            "Skew:                           0.249   Prob(JB):                         0.00\n",
            "Kurtosis:                       6.245   Cond. No.                         45.9\n",
            "==============================================================================\n",
            "\n",
            "Warnings:\n",
            "[1] Standard Errors assume that the covariance matrix of the errors is correctly specified.\n"
          ],
          "name": "stdout"
        }
      ]
    },
    {
      "cell_type": "markdown",
      "metadata": {
        "id": "R5Bjry2Qfpvb"
      },
      "source": [
        "The p-value associated with gross_income_group is very small which implies that the variable gross_income_group is relevant to estimating hours_per_week. Similarly, the p-values associated with the other 2 variables are also very close to 0 and hence, the other two variables are also significant in estimating hours_per_week. \r\n",
        "\r\n",
        "To decide which model is the best, I would work with AIC since this information criterion penalizes complex models.\r\n",
        "\r\n",
        "In this question, I started with a model with only 1 independent variable and adding in an extra variable in every step. For my model fitting procedure, I would use forward selection and also start with the simplest model before adding in independent variables. I would add in the variable that results in the lowest AIC among all the other models with the same amount of predictors. I would continue to do this until the AIC no longer reduces."
      ]
    }
  ]
}